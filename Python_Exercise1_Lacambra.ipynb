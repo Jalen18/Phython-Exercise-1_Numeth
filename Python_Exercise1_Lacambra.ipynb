{
  "nbformat": 4,
  "nbformat_minor": 0,
  "metadata": {
    "colab": {
      "name": "Python_Exercise1_Lacambra.ipynb",
      "private_outputs": true,
      "provenance": [],
      "authorship_tag": "ABX9TyNRmB6r+tdeYO2eK9R9wc/+",
      "include_colab_link": true
    },
    "kernelspec": {
      "name": "python3",
      "display_name": "Python 3"
    },
    "language_info": {
      "name": "python"
    }
  },
  "cells": [
    {
      "cell_type": "markdown",
      "metadata": {
        "id": "view-in-github",
        "colab_type": "text"
      },
      "source": [
        "<a href=\"https://colab.research.google.com/github/Jalen18/Phython-Exercise-1_Numeth/blob/main/Python_Exercise1_Lacambra.ipynb\" target=\"_parent\"><img src=\"https://colab.research.google.com/assets/colab-badge.svg\" alt=\"Open In Colab\"/></a>"
      ]
    },
    {
      "cell_type": "markdown",
      "metadata": {
        "id": "D58AVDUVm7lj"
      },
      "source": [
        "#Python Exercise 1"
      ]
    },
    {
      "cell_type": "markdown",
      "metadata": {
        "id": "gtCe3Uzjmnb9"
      },
      "source": [
        "##Create a program using Python that allows a Student to type his/her name, the name of the course, and that computes his/her semestral grade (30% x PG + 30% x MG + 40% x FG)"
      ]
    },
    {
      "cell_type": "code",
      "metadata": {
        "id": "k7WB7cLba9_6"
      },
      "source": [
        "import math\n",
        "\n",
        "print('Enter your full name:')\n",
        "Student_Name = input()\n",
        "\n",
        "print(\"Enter your Program:\")\n",
        "Course_name = input()\n",
        "\n",
        "print(\"Enter prelim grade: \")\n",
        "pg = int(input())\n",
        "\n",
        "print(\"Enter midterm grade: \")\n",
        "mg = int(input())\n",
        "\n",
        "print(\"Enter finals grade: \")\n",
        "fg = int(input())\n",
        "\n",
        "Total_grade = (0.3 * pg + 0.3 * mg + 0.4 * fg)\n",
        "print(\"Your Total Grade is:\" + str(Total_grade))\n",
        "\n"
      ],
      "execution_count": null,
      "outputs": []
    },
    {
      "cell_type": "code",
      "metadata": {
        "id": "ORZlFKtZhNab"
      },
      "source": [
        ""
      ],
      "execution_count": null,
      "outputs": []
    }
  ]
}